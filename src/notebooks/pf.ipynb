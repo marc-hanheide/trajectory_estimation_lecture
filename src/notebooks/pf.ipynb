{
 "cells": [
  {
   "cell_type": "markdown",
   "metadata": {},
   "source": [
    "# Probabilistic Robotics for State Estimation\n",
    "\n",
    "Probabilistic robotics is a framework that deals with uncertainty in robot perception and action by using probability theory. It's especially valuable for state estimation - determining where a robot is and what's around it in uncertain environments.\n",
    "\n",
    "## Core Concept\n",
    "\n",
    "The fundamental idea is that a robot's belief about its state (position, orientation, etc.) and the environment is represented as a probability distribution rather than as single, deterministic values. This approach acknowledges the inherent uncertainty in:\n",
    "\n",
    "1. **Sensor measurements** (noise, limited range, occlusions)\n",
    "2. **Motion actions** (wheel slippage, uneven terrain)\n",
    "3. **Environment dynamics** (moving objects, changing conditions)\n",
    "\n"
   ]
  },
  {
   "cell_type": "markdown",
   "metadata": {
    "slideshow": {
     "slide_type": "slide"
    }
   },
   "source": [
    "## Mathematical Framework\n",
    "\n",
    "The mathematical foundation lies in Bayesian probability theory, where we update beliefs based on new evidence.\n",
    "\n",
    "### Bayes' Rule\n",
    "\n",
    "$$\n",
    "p(x|z) = \\frac{p(z|x) \\cdot p(x)}{p(z)}\n",
    "$$\n",
    "\n",
    "Where:\n",
    "- $p(x)$ is the prior belief about state $x$\n",
    "- $p(z|x)$ is the likelihood of getting measurement $z$ given state $x$\n",
    "- $p(x|z)$ is the posterior belief after incorporating measurement $z$\n",
    "- $p(z)$ is a normalizing factor\n",
    "\n"
   ]
  },
  {
   "cell_type": "markdown",
   "metadata": {
    "slideshow": {
     "slide_type": "slide"
    }
   },
   "source": [
    "### State Estimation Process\n",
    "\n",
    "State estimation typically follows these steps:\n",
    "\n",
    "1. **Prediction Step (Motion Model)**: When a robot moves, uncertainty increases.\n",
    "   \n",
    "   $$p(x_t|u_t,x_{t-1}) $$\n",
    "   \n",
    "   This transition model describes how state $x$ changes when control $u$ is applied.\n",
    "\n",
    "2. **Update Step (Measurement Model)**: When sensors provide data, uncertainty decreases.\n",
    "   \n",
    "   $$p(z_t|x_t)$$\n",
    "   \n",
    "   This sensor model describes the probability of getting measurement $z$ in state $x$.\n",
    "\n",
    "3. **Belief Update**: Combining the above using Bayes' rule.\n",
    "   \n",
    "   $$bel(x_t) = \\eta \\cdot p(z_t|x_t) \\int p(x_t|u_t,x_{t-1}) \\cdot bel(x_{t-1}) \\, dx_{t-1}$$\n",
    "   \n",
    "   Where $\\eta$ is a normalizing constant and $bel(x_t)$ is the belief at time $t$.\n",
    "\n"
   ]
  },
  {
   "cell_type": "markdown",
   "metadata": {
    "slideshow": {
     "slide_type": "slide"
    }
   },
   "source": [
    "## Common Algorithms\n",
    "\n",
    "1. **Kalman Filter**: For linear systems with Gaussian noise.\n",
    "2. **Extended Kalman Filter (EKF)**: For nonlinear systems, using linearization.\n",
    "3. **Particle Filter**: For arbitrary distributions, using sampling.\n",
    "4. **Histogram Filter**: For discrete state spaces.\n",
    "\n"
   ]
  },
  {
   "cell_type": "markdown",
   "metadata": {
    "slideshow": {
     "slide_type": "slide"
    }
   },
   "source": [
    "## Simple Example: Robot Localization\n",
    "\n",
    "Let's consider a simple 1D robot moving along a line, with:\n",
    "- A motion model that attempts to move forward 1 unit each step but has noise\n",
    "- A sensor that can detect a pole in the tunnel with some uncertainty\n",
    "\n",
    "### Initial Belief\n",
    "The robot starts with a uniform belief about its position - it could be anywhere with equal probability.\n",
    "\n",
    "### Prediction Step\n",
    "The robot attempts to move forward 1 unit by applying motor controls. Due to uncertainty in motion:\n",
    "- If it's at position $x$ now, it might end up at $x+0.8$, $x+1.0$, or $x+1.2$ with different probabilities\n",
    "- This \"smears\" the belief forward and increases uncertainty\n",
    "\n",
    "Mathematically:\n",
    "$$bel^-(x_t) = \\int p(x_t|u_t,x_{t-1}) \\cdot bel(x_{t-1}) \\, dx_{t-1}$$\n",
    "\n",
    "### Update Step\n",
    "The robot takes a sensor measurement and detects a pole 2 metres away, but with some uncertainty.\n",
    "\n",
    "If the sensor is perfect, positions exactly 2 units from the pole would have probability 1.0, and all others 0.0. But with noise:\n",
    "- Positions 1.8-2.2 units from the pole might have high probability\n",
    "- Positions further away have lower probability\n",
    "\n",
    "Mathematically:\n",
    "$$bel(x_t) = \\eta \\cdot p(z_t|x_t) \\cdot bel^-(x_t)$$\n",
    "\n",
    "### Result\n",
    "After combining the prediction and update, the robot has a revised belief about its position - typically a sharper, more certain distribution than before.\n",
    "\n"
   ]
  },
  {
   "cell_type": "markdown",
   "metadata": {},
   "source": [
    "## Particle Filter Implementation Example\n",
    "\n",
    "A particle filter would represent this belief using discrete samples (particles):\n",
    "\n",
    "\n",
    "This simple example demonstrates how a robot can:\n",
    "1. Start with high uncertainty\n",
    "2. Move and increase uncertainty further\n",
    "3. Take measurements to reduce uncertainty\n",
    "4. Combine these to arrive at a better state estimate\n",
    "\n",
    "This probabilistic approach allows robots to function effectively despite the uncertainty inherent in real-world environments."
   ]
  },
  {
   "cell_type": "code",
   "execution_count": null,
   "metadata": {
    "slideshow": {
     "slide_type": "slide"
    }
   },
   "outputs": [
    {
     "data": {
      "application/vnd.jupyter.widget-view+json": {
       "model_id": "305b960ea12448188cee9edd1848b54d",
       "version_major": 2,
       "version_minor": 0
      },
      "text/plain": [
       "HBox(children=(VBox(children=(IntSlider(value=1000, description='Particles:', max=10000, min=100, step=100), F…"
      ]
     },
     "metadata": {},
     "output_type": "display_data"
    }
   ],
   "source": [
    "import numpy as np\n",
    "import matplotlib.pyplot as plt\n",
    "import ipywidgets as widgets\n",
    "from IPython.display import display\n",
    "\n",
    "\n",
    "# Function to calculate estimated position (weighted average)\n",
    "def calculate_estimated_position(particles, weights):\n",
    "    return np.sum(particles * weights)\n",
    "\n",
    "# Modify the run_simulation function to return and display the estimated position\n",
    "def run_simulation(num_particles, move_distance, move_noise, measurement_noise, pole_distance, measurement):\n",
    "    # Initialize particles (positions) with uniform distribution\n",
    "    particles = np.random.uniform(0, 1, num_particles)  # Robot could be anywhere from 0-10\n",
    "    \n",
    "    # Create figure for plotting\n",
    "    plt.figure(figsize=(10, 6))\n",
    "    \n",
    "    # Initial belief\n",
    "    plt.subplot(3, 1, 1)\n",
    "    plt.hist(particles, bins=100, color='b', density=True)\n",
    "    plt.title(\"Initial Belief (Uniform between 0-10)\")\n",
    "    plt.xlim(0, 20)\n",
    "    \n",
    "    # After movement (prediction step)\n",
    "    particles = particles + move_distance + np.random.normal(0, move_noise, len(particles))\n",
    "    plt.subplot(3, 1, 2)\n",
    "    plt.hist(particles, bins=100, density=True, color='y')\n",
    "    plt.title(f\"After Movement (Prediction Step): Move {move_distance} units with noise {move_noise:.2f}\")\n",
    "    plt.xlim(0, 20)\n",
    "    \n",
    "    # Calculate weights based on measurement (update step)\n",
    "    expected_measurements = pole_distance - particles\n",
    "    weights = np.exp(-0.5 * ((expected_measurements - measurement) / measurement_noise)**2)\n",
    "    weights = weights / sum(weights)  # Normalize weights\n",
    "    \n",
    "    # Measures to capture the \"compatibility\" of our measurement given the prediction:\n",
    "    # Calculate effective sample size (ESS)\n",
    "    ess = 1.0 / np.sum(weights**2)\n",
    "    ess_percentage = 100 * ess / num_particles\n",
    "    print(f\"Effective Sample Size: {ess:.1f}/{num_particles} ({ess_percentage:.1f}%)\")\n",
    "\n",
    "    # Calculate entropy of the weights\n",
    "    entropy = -np.sum(weights * np.log(weights + 1e-10))  # Adding small epsilon to avoid log(0)\n",
    "    entropy_normalized = entropy / np.log(num_particles)  # Normalize by maximum possible entropy\n",
    "    print(f\"Normalized Entropy: {entropy_normalized:.3f} (higher = more uncertain)\")\n",
    "\n",
    "    # Calculate estimated position\n",
    "    estimated_pos = calculate_estimated_position(particles, weights)\n",
    "    \n",
    "    # Resample particles based on weights (low weight particles will be replaced by high weight particles)\n",
    "    resampled_indices = np.random.choice(range(num_particles), num_particles, p=weights)\n",
    "    particles = particles[resampled_indices]\n",
    "    \n",
    "    plt.subplot(3, 1, 3)\n",
    "    plt.hist(particles, bins=100, color='g', density=True)\n",
    "    plt.title(f\"After Sensor Update: Est. Position = {estimated_pos:.2f}; ESS={ess_percentage:.1f}%; Entropy={entropy_normalized:.3f}\")\n",
    "    plt.axvline(x=estimated_pos, color='r', linestyle='--')\n",
    "    plt.xlim(0, 20)\n",
    "    \n",
    "    plt.tight_layout()\n",
    "    plt.show()\n",
    "\n",
    "    \n",
    "    return estimated_pos\n",
    "\n",
    "# Create interactive widgets\n",
    "num_particles_slider = widgets.IntSlider(value=1000, min=100, max=10000, step=100, description='Particles:')\n",
    "move_distance_slider = widgets.FloatSlider(value=5.0, min=0.0, max=20.0, step=0.1, description='Move:')\n",
    "move_noise_slider = widgets.FloatSlider(value=0.5, min=0.1, max=5.0, step=0.1, description='Move Noise:')\n",
    "measurement_noise_slider = widgets.FloatSlider(value=0.2, min=0.001, max=5.0, step=0.1, description='Meas. Noise:')\n",
    "pole_distance_slider = widgets.FloatSlider(value=8.0, min=5.0, max=20.0, step=1.0, description='Pole Pos:')\n",
    "measurement_slider = widgets.FloatSlider(value=2.0, min=0.0, max=20.0, step=0.1, description='Meas. Dist:')\n",
    "\n",
    "# Create the interactive output\n",
    "interactive_output = widgets.interactive_output(run_simulation, {\n",
    "    'num_particles': num_particles_slider,\n",
    "    'move_distance': move_distance_slider,\n",
    "    'move_noise': move_noise_slider,\n",
    "    'measurement_noise': measurement_noise_slider,\n",
    "    'pole_distance': pole_distance_slider,\n",
    "    'measurement': measurement_slider\n",
    "})\n",
    "\n",
    "# Display widgets and output\n",
    "controls = widgets.VBox([\n",
    "    num_particles_slider, \n",
    "    move_distance_slider, \n",
    "    move_noise_slider, \n",
    "    measurement_noise_slider, \n",
    "    pole_distance_slider, \n",
    "    measurement_slider\n",
    "])\n",
    "\n",
    "display(widgets.HBox([controls, interactive_output]))"
   ]
  },
  {
   "cell_type": "code",
   "execution_count": null,
   "metadata": {},
   "outputs": [],
   "source": []
  }
 ],
 "metadata": {
  "kernelspec": {
   "display_name": ".venv",
   "language": "python",
   "name": "python3"
  },
  "language_info": {
   "codemirror_mode": {
    "name": "ipython",
    "version": 3
   },
   "file_extension": ".py",
   "mimetype": "text/x-python",
   "name": "python",
   "nbconvert_exporter": "python",
   "pygments_lexer": "ipython3",
   "version": "3.13.2"
  }
 },
 "nbformat": 4,
 "nbformat_minor": 4
}
