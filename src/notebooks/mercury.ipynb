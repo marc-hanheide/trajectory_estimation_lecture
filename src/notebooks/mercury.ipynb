{
 "cells": [
  {
   "cell_type": "markdown",
   "metadata": {
    "slideshow": {
     "slide_type": "slide"
    }
   },
   "source": [
    "# Start"
   ]
  },
  {
   "cell_type": "code",
   "execution_count": 2,
   "metadata": {
    "slideshow": {
     "slide_type": "skip"
    }
   },
   "outputs": [
    {
     "name": "stderr",
     "output_type": "stream",
     "text": [
      "Unable to revert mtime: /Library/Fonts\n",
      "Matplotlib is building the font cache; this may take a moment.\n"
     ]
    },
    {
     "data": {
      "application/mercury+json": {
       "allow_download": true,
       "allow_share": true,
       "code_uid": "App.0.50.110.6-randd88a8f10",
       "continuous_update": true,
       "description": "Wouldn't it be amazing to recompute slides during the show?",
       "full_screen": true,
       "model_id": "mercury-app",
       "notify": "{}",
       "output": "app",
       "schedule": "",
       "show_code": false,
       "show_prompt": false,
       "show_sidebar": true,
       "static_notebook": false,
       "stop_on_error": false,
       "title": "Slides demo 📝",
       "widget": "App"
      },
      "text/html": [
       "<h3>Mercury Application</h3><small>This output won't appear in the web app.</small>"
      ],
      "text/plain": [
       "mercury.App"
      ]
     },
     "metadata": {},
     "output_type": "display_data"
    },
    {
     "data": {
      "application/mercury+json": {
       "code_uid": "Text.0.50.78.8-rand6fa5093a",
       "disabled": false,
       "hidden": false,
       "label": "What is your name?",
       "model_id": "660ce66b83b845fca123ebd40f46b8e9",
       "rows": 1,
       "sanitize": true,
       "url_key": "",
       "value": "Piotr",
       "widget": "Text"
      },
      "application/vnd.jupyter.widget-view+json": {
       "model_id": "660ce66b83b845fca123ebd40f46b8e9",
       "version_major": 2,
       "version_minor": 0
      },
      "text/plain": [
       "mercury.Text"
      ]
     },
     "metadata": {},
     "output_type": "display_data"
    }
   ],
   "source": [
    "#!pip install mercury\n",
    "import mercury as mr\n",
    "import numpy as np\n",
    "from matplotlib import pyplot as plt\n",
    " \n",
    "app = mr.App(title=\"Slides demo 📝\", description=\"Wouldn't it be amazing to recompute slides during the show?\") \n",
    "\n",
    "name = mr.Text(value=\"Piotr\", label=\"What is your name?\")\n",
    "\n"
   ]
  },
  {
   "cell_type": "code",
   "execution_count": 3,
   "metadata": {
    "slideshow": {
     "slide_type": "slide"
    }
   },
   "outputs": [
    {
     "data": {
      "text/markdown": [
       "## Hello Piotr!\n",
       "\n",
       "Piotr, this slide is recomputed after name change in the left side bar.\n",
       "\n",
       "Please change the name value in the left side bar and press **Enter**.\n",
       "\n",
       "Please check next slide ➡️\n",
       "\n"
      ],
      "text/plain": [
       "<IPython.core.display.Markdown object>"
      ]
     },
     "metadata": {},
     "output_type": "display_data"
    },
    {
     "data": {
      "application/mercury+json": {
       "code_uid": "Slider.0.50.110.11-rand6b717410",
       "disabled": false,
       "hidden": false,
       "label": "How many samples",
       "max": 100,
       "min": 50,
       "model_id": "6db768866d994cb8957b29a2c4731446",
       "step": 1,
       "url_key": "",
       "value": 75,
       "widget": "Slider"
      },
      "application/vnd.jupyter.widget-view+json": {
       "model_id": "6db768866d994cb8957b29a2c4731446",
       "version_major": 2,
       "version_minor": 0
      },
      "text/plain": [
       "mercury.Slider"
      ]
     },
     "metadata": {},
     "output_type": "display_data"
    },
    {
     "data": {
      "application/mercury+json": {
       "choices": [
        "blue",
        "green",
        "red"
       ],
       "code_uid": "Select.0.50.104.12-randacda6932",
       "disabled": false,
       "hidden": false,
       "label": "Mark color",
       "model_id": "dd90666c66f940299aa90c520ad63b8b",
       "url_key": "",
       "value": "blue",
       "widget": "Select"
      },
      "application/vnd.jupyter.widget-view+json": {
       "model_id": "dd90666c66f940299aa90c520ad63b8b",
       "version_major": 2,
       "version_minor": 0
      },
      "text/plain": [
       "mercury.Select"
      ]
     },
     "metadata": {},
     "output_type": "display_data"
    }
   ],
   "source": [
    "mr.Markdown(f\"\"\"## Hello {name.value}!\n",
    " \n",
    "{name.value}, this slide is recomputed after name change in the left side bar.\n",
    " \n",
    "Please change the name value in the left side bar and press **Enter**.\n",
    " \n",
    "Please check next slide ➡️\n",
    " \n",
    "\"\"\")\n",
    "\n",
    "samples = mr.Slider(label=\"How many samples\", value=75, min=50, max=100)\n",
    "color = mr.Select(label=\"Mark color\", value=\"blue\", choices=[\"blue\", \"green\", \"red\"])\n",
    "\n"
   ]
  },
  {
   "cell_type": "code",
   "execution_count": 5,
   "metadata": {
    "slideshow": {
     "slide_type": "slide"
    }
   },
   "outputs": [
    {
     "data": {
      "text/plain": [
       "[<matplotlib.lines.Line2D at 0x114799a90>]"
      ]
     },
     "execution_count": 5,
     "metadata": {},
     "output_type": "execute_result"
    },
    {
     "data": {
      "image/png": "[encoded data removed]",
      "text/plain": [
       "<Figure size 640x480 with 1 Axes>"
      ]
     },
     "metadata": {},
     "output_type": "display_data"
    }
   ],
   "source": [
    "plt.plot(np.random.rand(samples.value), np.random.rand(samples.value), \"*\", color=color.value)"
   ]
  },
  {
   "cell_type": "code",
   "execution_count": null,
   "metadata": {},
   "outputs": [],
   "source": []
  }
 ],
 "metadata": {
  "kernelspec": {
   "display_name": ".venv",
   "language": "python",
   "name": "python3"
  },
  "language_info": {
   "codemirror_mode": {
    "name": "ipython",
    "version": 3
   },
   "file_extension": ".py",
   "mimetype": "text/x-python",
   "name": "python",
   "nbconvert_exporter": "python",
   "pygments_lexer": "ipython3",
   "version": "3.13.2"
  }
 },
 "nbformat": 4,
 "nbformat_minor": 2
}
