{
 "cells": [
  {
   "cell_type": "markdown",
   "metadata": {
    "slideshow": {
     "slide_type": "slide"
    }
   },
   "source": [
    "# Kalman Filter Overview for Mobile Robotics\n",
    "\n",
    "## Conceptual Overview\n",
    "\n",
    "The Kalman Filter is a recursive algorithm that provides optimal state estimation for linear systems with Gaussian noise. For mobile robotics, it's particularly valuable for:\n",
    "\n",
    "1. **Sensor Fusion** - Combining multiple noisy sensor measurements\n",
    "2. **State Estimation** - Tracking robot position and orientation over time\n",
    "3. **Noise Filtering** - Reducing measurement and process uncertainties\n",
    "\n"
   ]
  },
  {
   "cell_type": "markdown",
   "metadata": {
    "slideshow": {
     "slide_type": "slide"
    }
   },
   "source": [
    "## Key Components\n",
    "\n",
    "1. **State Vector** - Represents the system variables (e.g., position, velocity)\n",
    "2. **Process Model** - Describes how the state evolves over time\n",
    "3. **Measurement Model** - Relates sensor measurements to the state\n",
    "4. **Covariance Matrices** - Represent uncertainties in the system\n",
    "5. **Prediction-Correction Cycle** - The core iterative process\n",
    "\n"
   ]
  },
  {
   "cell_type": "markdown",
   "metadata": {
    "slideshow": {
     "slide_type": "slide"
    }
   },
   "source": [
    "## Kalman Filter Algorithm\n",
    "\n",
    "The algorithm operates in two main steps:\n",
    "\n",
    "1. **Prediction** (Time Update):\n",
    "   - Project state ahead using the process model\n",
    "   - Project error covariance ahead\n",
    "\n",
    "2. **Correction** (Measurement Update):\n",
    "   - Compute Kalman gain\n",
    "   - Update state estimate with measurement\n",
    "   - Update error covariance\n",
    "\n"
   ]
  },
  {
   "cell_type": "markdown",
   "metadata": {
    "slideshow": {
     "slide_type": "slide"
    }
   },
   "source": [
    "## A simple 2D Robot Model\n",
    "\n",
    "The implementation above demonstrates how to apply a Kalman Filter for pose tracking in a differential drive robot using IMU and GPS sensors. Let's break down the key components:\n",
    "\n",
    "### Robot Model (DifferentialDriveRobot class)\n",
    "- Implements a basic kinematic model for a differential drive robot\n",
    "- Simulates IMU data (angular velocity) and GPS data (position) with appropriate noise\n",
    "- Tracks ground truth for evaluation purposes\n",
    "\n"
   ]
  },
  {
   "cell_type": "code",
   "execution_count": null,
   "metadata": {
    "notebookRunGroups": {
     "groupValue": "1"
    },
    "slideshow": {
     "slide_type": "skip"
    }
   },
   "outputs": [],
   "source": [
    "import numpy as np\n",
    "import matplotlib.pyplot as plt\n",
    "from math import sin, cos, atan2, pi\n",
    "import time\n"
   ]
  },
  {
   "cell_type": "code",
   "execution_count": null,
   "metadata": {
    "slideshow": {
     "slide_type": "fragment"
    }
   },
   "outputs": [],
   "source": [
    "class DifferentialDriveRobot:\n",
    "    \"\"\"\n",
    "    A differential drive robot model with simulated IMU and GPS sensors.\n",
    "    \"\"\"\n",
    "    def __init__(self, x=0.0, y=0.0, theta=0.0, wheel_radius=0.1, wheel_base=0.5):\n",
    "        # Robot state\n",
    "        self.x = x\n",
    "        self.y = y\n",
    "        self.theta = theta  # Heading in radians\n",
    "        \n",
    "        # Robot parameters\n",
    "        self.wheel_radius = wheel_radius\n",
    "        self.wheel_base = wheel_base\n",
    "        \n",
    "        # Sensor noise parameters (standard deviations)\n",
    "        self.imu_noise_angular_velocity = 0.01  # rad/s\n",
    "        self.imu_noise_linear_accel = 0.05      # m/s²\n",
    "        self.gps_noise_position = 2.0           # meters\n",
    "        \n",
    "        # Internal state for simulation\n",
    "        self.v_left = 0.0   # Left wheel velocity\n",
    "        self.v_right = 0.0  # Right wheel velocity\n",
    "        self.last_time = time.time()\n",
    "\n",
    "    \n",
    "    def update_wheels_velocity(self, v_left, v_right):\n",
    "        \"\"\"Set the wheel velocities in rad/sec.\"\"\"\n",
    "        self.v_left = v_left\n",
    "        self.v_right = v_right\n",
    "    \n",
    "    def update(self):\n",
    "        \"\"\"Update the robot's position based on wheel velocities.\"\"\"\n",
    "        current_time = time.time()\n",
    "        dt = current_time - self.last_time\n",
    "        self.last_time = current_time\n",
    "        \n",
    "        # Calculate linear and angular velocity\n",
    "        v_linear = self.wheel_radius * (self.v_right + self.v_left) / 2.0\n",
    "        v_angular = self.wheel_radius * (self.v_right - self.v_left) / self.wheel_base\n",
    "        \n",
    "        # Update state\n",
    "        if abs(v_angular) < 1e-6:  # Straight line motion\n",
    "            self.x += v_linear * cos(self.theta) * dt\n",
    "            self.y += v_linear * sin(self.theta) * dt\n",
    "        else:  # Curved motion\n",
    "            radius = v_linear / v_angular\n",
    "            self.x += radius * (sin(self.theta + v_angular * dt) - sin(self.theta))\n",
    "            self.y += radius * (cos(self.theta) - cos(self.theta + v_angular * dt))\n",
    "            self.theta += v_angular * dt\n",
    "            \n",
    "            # Normalize theta to [-pi, pi]\n",
    "            self.theta = atan2(sin(self.theta), cos(self.theta))\n",
    "    \n",
    "    def get_imu_reading(self):\n",
    "        \"\"\"\n",
    "        Get simulated IMU readings (angular velocity and linear acceleration).\n",
    "        Returns: (angular_velocity, linear_acceleration)\n",
    "        \"\"\"\n",
    "        # Calculate actual values\n",
    "        v_linear = self.wheel_radius * (self.v_right + self.v_left) / 2.0\n",
    "        v_angular = self.wheel_radius * (self.v_right - self.v_left) / self.wheel_base\n",
    "        \n",
    "        # Add noise\n",
    "        angular_velocity = v_angular + np.random.normal(0, self.imu_noise_angular_velocity)\n",
    "        linear_accel = np.random.normal(0.0, self.imu_noise_linear_accel)  # Simplified, just noise\n",
    "        \n",
    "        return angular_velocity, linear_accel\n",
    "    \n",
    "    def get_gps_reading(self):\n",
    "        \"\"\"\n",
    "        Get simulated GPS readings.\n",
    "        Returns: (x, y) with added noise\n",
    "        \"\"\"\n",
    "        gps_x = self.x + np.random.normal(0.0, self.gps_noise_position)\n",
    "        print(gps_x)\n",
    "        gps_y = self.y + np.random.normal(0.0, self.gps_noise_position)\n",
    "        \n",
    "        return gps_x, gps_y\n",
    "    \n",
    "    def get_true_state(self):\n",
    "        \"\"\"Get the ground truth state.\"\"\"\n",
    "        return self.x, self.y, self.theta\n"
   ]
  },
  {
   "cell_type": "markdown",
   "metadata": {
    "slideshow": {
     "slide_type": "slide"
    }
   },
   "source": [
    "### Kalman Filter Implementation (KalmanFilter class)\n",
    "- **State Vector $[x, y, θ, v, ω]$**:\n",
    "  - Position ($x, y$)\n",
    "  - Heading angle ($θ$)\n",
    "  - Linear velocity ($v$)\n",
    "  - Angular velocity ($ω$)\n",
    "\n",
    "- **Process Model**:\n",
    "  - Predicts robot pose based on current state and kinematics\n",
    "  - Updates state transition matrix ($F$) based on linearised motion model\n",
    "\n",
    "- **Measurement Updates**:\n",
    "  - GPS updates provide position corrections\n",
    "  - IMU updates provide angular velocity corrections\n",
    "  - Different update frequencies for each sensor type\n",
    "\n"
   ]
  },
  {
   "cell_type": "code",
   "execution_count": 35,
   "metadata": {
    "slideshow": {
     "slide_type": "fragment"
    }
   },
   "outputs": [],
   "source": [
    "class KalmanFilter:\n",
    "    \"\"\"\n",
    "    Kalman Filter implementation for differential drive robot localization.\n",
    "    State vector: [x, y, theta, v, omega]\n",
    "    Where:\n",
    "        x, y: position\n",
    "        theta: heading\n",
    "        v: linear velocity\n",
    "        omega: angular velocity\n",
    "    \"\"\"\n",
    "    def __init__(self):\n",
    "        # State vector [x, y, theta, v, omega]\n",
    "        self.x = np.zeros((5, 1))\n",
    "        \n",
    "        # State covariance matrix\n",
    "        self.P = np.eye(5) * 1.0\n",
    "        \n",
    "        # Process noise covariance\n",
    "        self.Q = np.diag([0.01, 0.01, 0.01, 0.1, 0.1])\n",
    "        \n",
    "        # Measurement noise covariance for GPS [x, y]\n",
    "        self.R_gps = np.diag([1.0, 1.0])\n",
    "        \n",
    "        # Measurement noise covariance for IMU [omega]\n",
    "        self.R_imu = np.diag([0.01])\n",
    "        \n",
    "        # Last update time\n",
    "        self.last_time = time.time()\n",
    "        \n",
    "    def predict(self, dt):\n",
    "        \"\"\"\n",
    "        Prediction step of the Kalman filter.\n",
    "        Args:\n",
    "            dt: Time step in seconds\n",
    "        \"\"\"\n",
    "        # State transition matrix (linearized)\n",
    "        F = np.eye(5)\n",
    "        F[0, 2] = -self.x[3, 0] * sin(self.x[2, 0]) * dt\n",
    "        F[0, 3] = cos(self.x[2, 0]) * dt\n",
    "        F[1, 2] = self.x[3, 0] * cos(self.x[2, 0]) * dt\n",
    "        F[1, 3] = sin(self.x[2, 0]) * dt\n",
    "        F[2, 4] = dt\n",
    "        \n",
    "        # Predict state\n",
    "        v = self.x[3, 0]\n",
    "        theta = self.x[2, 0]\n",
    "        omega = self.x[4, 0]\n",
    "        \n",
    "        # Predict state using nonlinear model\n",
    "        self.x[0, 0] += v * cos(theta) * dt\n",
    "        self.x[1, 0] += v * sin(theta) * dt\n",
    "        self.x[2, 0] += omega * dt\n",
    "        \n",
    "        # Normalize theta to [-pi, pi]\n",
    "        self.x[2, 0] = atan2(sin(self.x[2, 0]), cos(self.x[2, 0]))\n",
    "        \n",
    "        # Predict covariance\n",
    "        self.P = F @ self.P @ F.T + self.Q\n",
    "        \n",
    "    def update_with_gps(self, gps_x, gps_y):\n",
    "        \"\"\"\n",
    "        Update step with GPS measurement.\n",
    "        Args:\n",
    "            gps_x: GPS x position\n",
    "            gps_y: GPS y position\n",
    "        \"\"\"\n",
    "        # Measurement matrix for GPS\n",
    "        H = np.zeros((2, 5))\n",
    "        H[0, 0] = 1.0  # x position\n",
    "        H[1, 1] = 1.0  # y position\n",
    "        \n",
    "        # Measurement\n",
    "        z = np.array([[gps_x], [gps_y]])\n",
    "        \n",
    "        # Expected measurement\n",
    "        z_pred = H @ self.x\n",
    "        \n",
    "        # Innovation (measurement residual)\n",
    "        y = z - z_pred\n",
    "        \n",
    "        # Innovation covariance\n",
    "        S = H @ self.P @ H.T + self.R_gps\n",
    "        \n",
    "        # Kalman gain\n",
    "        K = self.P @ H.T @ np.linalg.inv(S)\n",
    "        \n",
    "        # Update state and covariance\n",
    "        self.x = self.x + K @ y\n",
    "        self.P = (np.eye(5) - K @ H) @ self.P\n",
    "        \n",
    "    def update_with_imu(self, angular_velocity):\n",
    "        \"\"\"\n",
    "        Update step with IMU measurement.\n",
    "        Args:\n",
    "            angular_velocity: Angular velocity from IMU\n",
    "        \"\"\"\n",
    "        # Measurement matrix for IMU\n",
    "        H = np.zeros((1, 5))\n",
    "        H[0, 4] = 1.0  # Angular velocity\n",
    "        \n",
    "        # Measurement\n",
    "        z = np.array([[angular_velocity]])\n",
    "        \n",
    "        # Expected measurement\n",
    "        z_pred = H @ self.x\n",
    "        \n",
    "        # Innovation (measurement residual)\n",
    "        y = z - z_pred\n",
    "        \n",
    "        # Innovation covariance\n",
    "        S = H @ self.P @ H.T + self.R_imu\n",
    "        \n",
    "        # Kalman gain\n",
    "        K = self.P @ H.T @ np.linalg.inv(S)\n",
    "        \n",
    "        # Update state and covariance\n",
    "        self.x = self.x + K @ y\n",
    "        self.P = (np.eye(5) - K @ H) @ self.P\n",
    "        \n",
    "    def get_state(self):\n",
    "        \"\"\"Get the current estimated state.\"\"\"\n",
    "        return self.x[0, 0], self.x[1, 0], self.x[2, 0], self.x[3, 0], self.x[4, 0]\n"
   ]
  },
  {
   "cell_type": "markdown",
   "metadata": {},
   "source": [
    "### Simulation Function (simulate_robot_with_kalman_filter)\n",
    "- Creates a robot trajectory with varying wheel velocities\n",
    "- Processes sensor readings and updates the Kalman filter\n",
    "- Plots the results showing:\n",
    "  - True robot trajectory (ground truth)\n",
    "  - Noisy GPS measurements\n",
    "  - Filtered position estimates\n",
    "\n",
    "## Key Teaching Points\n",
    "\n",
    "1. **Sensor Fusion**: The implementation demonstrates how to fuse data from different sensors (IMU for orientation, GPS for position) with different update rates and noise characteristics.\n",
    "\n",
    "2. **State Representation**: Shows how to represent robot state including position, orientation, and velocities.\n",
    "\n",
    "3. **Linearization**: Demonstrates linearization of the nonlinear robot dynamics for the Kalman filter.\n",
    "\n",
    "4. **Covariance Propagation**: Illustrates how uncertainty propagates through the system.\n",
    "\n",
    "5. **Prediction-Correction Cycle**: Clearly separates prediction (time update) and correction (measurement update) steps.\n",
    "\n",
    "## Extensions for Your Course\n",
    "\n",
    "1. **Extended Kalman Filter (EKF)**: Modify the implementation to fully handle non-linearities in robot dynamics\n",
    "\n",
    "2. **Unscented Kalman Filter (UKF)**: Implement UKF for better handling of non-linearities\n",
    "\n",
    "3. **Parameter Tuning**: Experiment with different process and measurement noise parameters\n",
    "\n",
    "4. **Real Hardware Integration**: Guide students on adapting this code for real robots\n",
    "\n",
    "5. **Localization Challenges**: Add obstacles, varying terrain, or GPS denied environments\n",
    "\n",
    "Would you like me to elaborate on any particular aspect of this implementation or provide additional material for your MSc course?"
   ]
  },
  {
   "cell_type": "markdown",
   "metadata": {},
   "source": []
  },
  {
   "cell_type": "code",
   "execution_count": 36,
   "metadata": {},
   "outputs": [],
   "source": [
    "def simulate_robot_with_kalman_filter():\n",
    "    # Create a robot and Kalman filter\n",
    "    robot = DifferentialDriveRobot()\n",
    "    kf = KalmanFilter()\n",
    "    \n",
    "    # Simulation parameters\n",
    "    simulation_time = 60.0  # seconds\n",
    "    dt = 0.1  # time step\n",
    "    \n",
    "    # Storage for plotting\n",
    "    true_positions = []\n",
    "    gps_positions = []\n",
    "    kf_positions = []\n",
    "    time_points = []\n",
    "    \n",
    "    # Initial time\n",
    "    current_time = 0.0\n",
    "    last_update_time = 0.0\n",
    "    \n",
    "    # Main simulation loop\n",
    "    while current_time < simulation_time:\n",
    "        # Set wheel velocities (changing over time for interesting trajectory)\n",
    "        # v_left = 1.0 + 0.5 * sin(current_time * 0.000001)\n",
    "        # v_right = 1.5 + 0.5 * cos(current_time * 0.000001)\n",
    "        v_left = 1.0\n",
    "        v_right = 1.0\n",
    "        robot.update_wheels_velocity(v_left, v_right)\n",
    "        \n",
    "        # Update the robot's true position\n",
    "        robot.last_time = last_update_time\n",
    "        robot.update()\n",
    "        \n",
    "        # Get sensor readings\n",
    "        angular_velocity, _ = robot.get_imu_reading()\n",
    "        gps_x, gps_y = robot.get_gps_reading()\n",
    "        \n",
    "        # Update the Kalman filter\n",
    "        kf.predict(dt)\n",
    "        \n",
    "        # We'll update with IMU at every step\n",
    "        kf.update_with_imu(angular_velocity)\n",
    "        \n",
    "        # But update with GPS less frequently (e.g., every 0.5 seconds)\n",
    "        if current_time % 5 < dt:\n",
    "            kf.update_with_gps(gps_x, gps_y)\n",
    "        \n",
    "        # Store data for plotting\n",
    "        true_x, true_y, true_theta = robot.get_true_state()\n",
    "        kf_x, kf_y, kf_theta, kf_v, kf_omega = kf.get_state()\n",
    "        \n",
    "        true_positions.append((true_x, true_y))\n",
    "        gps_positions.append((gps_x, gps_y))\n",
    "        kf_positions.append((kf_x, kf_y))\n",
    "        time_points.append(current_time)\n",
    "        \n",
    "        # Update time\n",
    "        last_update_time = current_time\n",
    "        current_time += dt\n",
    "    \n",
    "    # Convert to numpy arrays for plotting\n",
    "    true_positions = np.array(true_positions)\n",
    "    gps_positions = np.array(gps_positions)\n",
    "    kf_positions = np.array(kf_positions)\n",
    "    \n",
    "    # Plot results\n",
    "    plt.figure(figsize=(10, 6))\n",
    "    \n",
    "    # Plot trajectories\n",
    "    plt.subplot(1, 1, 1)\n",
    "    plt.plot(true_positions[:, 0], true_positions[:, 1], 'g-', label='True Position')\n",
    "    plt.plot(gps_positions[:, 0], gps_positions[:, 1], 'r.', markersize=3, label='GPS Measurements')\n",
    "    plt.plot(kf_positions[:, 0], kf_positions[:, 1], 'b-', label='Kalman Filter Estimate')\n",
    "    plt.xlabel('X Position (m)')\n",
    "    plt.ylabel('Y Position (m)')\n",
    "    plt.legend()\n",
    "    plt.title('Robot Trajectory')\n",
    "    plt.grid(True)\n",
    "    \n",
    "    plt.tight_layout()\n",
    "    plt.show()\n",
    "\n",
    "\n"
   ]
  },
  {
   "cell_type": "code",
   "execution_count": 37,
   "metadata": {},
   "outputs": [
    {
     "data": {
      "image/png": "[encoded data removed]",
      "text/plain": [
       "<Figure size 1000x600 with 1 Axes>"
      ]
     },
     "metadata": {},
     "output_type": "display_data"
    }
   ],
   "source": [
    "simulate_robot_with_kalman_filter()"
   ]
  },
  {
   "cell_type": "code",
   "execution_count": null,
   "metadata": {},
   "outputs": [
    {
     "ename": "NameError",
     "evalue": "name 'gps_positions' is not defined",
     "output_type": "error",
     "traceback": [
      "\u001b[0;31m---------------------------------------------------------------------------\u001b[0m",
      "\u001b[0;31mNameError\u001b[0m                                 Traceback (most recent call last)",
      "Cell \u001b[0;32mIn[38], line 1\u001b[0m\n\u001b[0;32m----> 1\u001b[0m \u001b[43mgps_positions\u001b[49m\n",
      "\u001b[0;31mNameError\u001b[0m: name 'gps_positions' is not defined"
     ]
    }
   ],
   "source": []
  },
  {
   "cell_type": "code",
   "execution_count": null,
   "metadata": {},
   "outputs": [],
   "source": []
  }
 ],
 "metadata": {
  "kernelspec": {
   "display_name": "Python 3",
   "language": "python",
   "name": "python3"
  },
  "language_info": {
   "codemirror_mode": {
    "name": "ipython",
    "version": 3
   },
   "file_extension": ".py",
   "mimetype": "text/x-python",
   "name": "python",
   "nbconvert_exporter": "python",
   "pygments_lexer": "ipython3",
   "version": "3.9.6"
  }
 },
 "nbformat": 4,
 "nbformat_minor": 2
}
